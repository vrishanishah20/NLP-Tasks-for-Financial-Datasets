{
 "cells": [
  {
   "cell_type": "markdown",
   "metadata": {},
   "source": [
    "## Tokenization"
   ]
  },
  {
   "cell_type": "code",
   "execution_count": null,
   "metadata": {},
   "source": [
    "# Set up NLTK data directory and download required data\n",
    "import nltk\n",
    "import os\n",
    "\n",
    "# Set specific download directory\n",
    "nltk_data_dir = os.path.expanduser('~/nltk_data')\n",
    "if not os.path.exists(nltk_data_dir):\n",
    "    os.makedirs(nltk_data_dir)\n",
    "\n",
    "# Download punkt to the specific directory\n",
    "nltk.download('punkt', download_dir=nltk_data_dir)\n",
    "\n",
    "# Verify installation\n",
    "try:\n",
    "    nltk.data.find('tokenizers/punkt')\n",
    "    print(\"✓ Punkt tokenizer is successfully installed\")\n",
    "except LookupError as e:\n",
    "    print(\"Error: Punkt tokenizer not found\")\n",
    "    raise e"
   ]
  },
  {
   "cell_type": "code",
   "execution_count": null,
   "metadata": {},
   "source": [
    "# Import required libraries\n",
    "from nltk.tokenize import word_tokenize\n",
    "import spacy"
   ]
  },
  {
   "cell_type": "code",
   "execution_count": null,
   "metadata": {},
   "source": [
    "# Test tokenization\n",
    "text = \"This is my introduction to NLP tasks.\"\n",
    "\n",
    "# NLTK tokenization\n",
    "print(\"NLTK tokenization:\")\n",
    "tokens = word_tokenize(text)\n",
    "print(tokens)\n",
    "print(f\"Number of tokens: {len(tokens)}\")\n",
    "\n",
    "# spaCy tokenization\n",
    "nlp = spacy.load(\"en_core_web_sm\")\n",
    "doc = nlp(text)\n",
    "print(\"\\nspaCy tokenization:\")\n",
    "spacy_tokens = [token.text for token in doc]\n",
    "print(spacy_tokens)\n",
    "print(f\"Number of tokens: {len(spacy_tokens)}\")"
   ]
  }
 ],
 "metadata": {
  "kernelspec": {
   "display_name": "Python 3",
   "language": "python",
   "name": "python3"
  }
 },
 "nbformat": 4,
 "nbformat_minor": 4
}
