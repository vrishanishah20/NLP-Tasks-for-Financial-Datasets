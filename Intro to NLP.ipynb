{
 "cells": [
  {
   "cell_type": "code",
   "execution_count": 10,
   "metadata": {},
   "outputs": [
    {
     "name": "stdout",
     "output_type": "stream",
     "text": [
      "['This', 'is', 'my', 'introduction', 'to', 'NLP', 'tasks', '.']\n",
      "['This', 'is', 'my', 'introduction', 'to', 'NLP', 'tasks', '.']\n",
      "This -- PRON ( pronoun )\n",
      "is -- AUX ( auxiliary )\n",
      "my -- PRON ( pronoun )\n",
      "introduction -- NOUN ( noun )\n",
      "to -- ADP ( adposition )\n",
      "NLP -- PROPN ( proper noun )\n",
      "tasks -- NOUN ( noun )\n",
      ". -- PUNCT ( punctuation )\n"
     ]
    }
   ],
   "source": [
    "## Tokenization\n",
    "\n",
    "import nltk\n",
    "from nltk import word_tokenize, sent_tokenize\n",
    "import spacy\n",
    "\n",
    "# nltk.download()\n",
    "\n",
    "text = \"This is my introduction to NLP tasks.\"\n",
    "\n",
    "print(word_tokenize(text))\n",
    "\n",
    "nlp_task = spacy.load(\"en_core_web_sm\")\n",
    "doc = nlp_task(text)\n",
    "print([token.text for token in doc])\n",
    "\n",
    "#Spacy can also be used for POS Tagger and Named Entity Recognizer\n",
    "for token in doc:\n",
    "    print(token.text, \"--\", token.pos_, \"(\", spacy.explain(token.pos_), \")\")\n",
    "\n"
   ]
  },
  {
   "cell_type": "code",
   "execution_count": 9,
   "metadata": {},
   "outputs": [
    {
     "name": "stdout",
     "output_type": "stream",
     "text": [
      "['Prof.', 'Black works at NU as an NLP teacher.', 'He is vvv good.', 'Hi']\n",
      "['Prof. Black works at NU as an NLP teacher.', 'He is vvv good.', 'Hi']\n",
      "Black -- PERSON ( People, including fictional )\n",
      "NU -- ORG ( Companies, agencies, institutions, etc. )\n",
      "NLP -- ORG ( Companies, agencies, institutions, etc. )\n"
     ]
    }
   ],
   "source": [
    "from nltk.tokenize import PunktSentenceTokenizer\n",
    "import spacy\n",
    "\n",
    "text = \"Prof. Black works at NU as an NLP teacher. He is vvv good. Hi\" #gives Prof. as a separate sentence learning dynamically\n",
    "\n",
    "custom_tokenizer = PunktSentenceTokenizer()\n",
    "ans = custom_tokenizer.tokenize(text)\n",
    "\n",
    "print(ans)\n",
    "\n",
    "task = spacy.load(\"en_core_web_sm\")\n",
    "sentence = task(text)\n",
    "print([sent.text for sent in sentence.sents])\n",
    "\n",
    "#Named Entity Recognition\n",
    "for ent in sentence.ents:\n",
    "    print(ent.text, \"--\", ent.label_,\"(\", spacy.explain(ent.label_), \")\")"
   ]
  },
  {
   "cell_type": "code",
   "execution_count": 15,
   "metadata": {},
   "outputs": [
    {
     "name": "stdout",
     "output_type": "stream",
     "text": [
      "\n",
      "\n",
      "\n",
      "['T', 'o', 'k', 'e', 'n', 'i', 'z', 'ati', 'on', 'Ġis', 'Ġreally', 'Ġi', 'm', 'p', 'or', 't', 'ant']\n"
     ]
    }
   ],
   "source": [
    "#Byte Pair Encoding\n",
    "\n",
    "import tokenizers\n",
    "from tokenizers import ByteLevelBPETokenizer\n",
    "\n",
    "tokenizer = ByteLevelBPETokenizer()\n",
    "tokenizer.train(files = [\"sample.txt\"], vocab_size = 1000, min_frequency = 2)\n",
    "\n",
    "output = tokenizer.encode(\"Tokenization is really important\")\n",
    "print(output.tokens)"
   ]
  },
  {
   "cell_type": "code",
   "execution_count": 2,
   "metadata": {},
   "outputs": [
    {
     "name": "stdout",
     "output_type": "stream",
     "text": [
      "['token', '##ization', 'is', 'really', 'un', '##im', '##port', '##ant']\n"
     ]
    }
   ],
   "source": [
    "#Word Piece Tokenizer\n",
    "\n",
    "from transformers import BertTokenizer\n",
    "\n",
    "tokenizer = BertTokenizer.from_pretrained(\"bert-base-uncased\")\n",
    "\n",
    "text = \"Tokenization is really unimportant\"\n",
    "tokens = tokenizer.tokenize(text)\n",
    "\n",
    "print(tokens)"
   ]
  },
  {
   "cell_type": "code",
   "execution_count": 5,
   "metadata": {},
   "outputs": [
    {
     "name": "stdout",
     "output_type": "stream",
     "text": [
      "Collecting sentencepiece\n",
      "  Using cached sentencepiece-0.2.0-cp312-cp312-macosx_11_0_arm64.whl.metadata (7.7 kB)\n",
      "Using cached sentencepiece-0.2.0-cp312-cp312-macosx_11_0_arm64.whl (1.2 MB)\n",
      "Installing collected packages: sentencepiece\n",
      "Successfully installed sentencepiece-0.2.0\n",
      "Note: you may need to restart the kernel to use updated packages.\n"
     ]
    }
   ],
   "source": [
    "pip install sentencepiece"
   ]
  },
  {
   "cell_type": "code",
   "execution_count": 10,
   "metadata": {},
   "outputs": [
    {
     "name": "stdout",
     "output_type": "stream",
     "text": [
      "['▁', 'W', 'e', '▁a', 're', '▁', 'l', 'e', 'ar', 'n', 'ing', '▁', 'T', 'o', 'k', 'e', 'ni', 'z', 'ati', 'on', '▁for', '▁', 'N', 'L', 'P']\n"
     ]
    },
    {
     "name": "stderr",
     "output_type": "stream",
     "text": [
      "sentencepiece_trainer.cc(78) LOG(INFO) Starts training with : \n",
      "trainer_spec {\n",
      "  input: sample.txt\n",
      "  input_format: \n",
      "  model_prefix: m\n",
      "  model_type: UNIGRAM\n",
      "  vocab_size: 125\n",
      "  self_test_sample_size: 0\n",
      "  character_coverage: 0.9995\n",
      "  input_sentence_size: 0\n",
      "  shuffle_input_sentence: 1\n",
      "  seed_sentencepiece_size: 1000000\n",
      "  shrinking_factor: 0.75\n",
      "  max_sentence_length: 4192\n",
      "  num_threads: 16\n",
      "  num_sub_iterations: 2\n",
      "  max_sentencepiece_length: 16\n",
      "  split_by_unicode_script: 1\n",
      "  split_by_number: 1\n",
      "  split_by_whitespace: 1\n",
      "  split_digits: 0\n",
      "  pretokenization_delimiter: \n",
      "  treat_whitespace_as_suffix: 0\n",
      "  allow_whitespace_only_pieces: 0\n",
      "  required_chars: \n",
      "  byte_fallback: 0\n",
      "  vocabulary_output_piece_score: 1\n",
      "  train_extremely_large_corpus: 0\n",
      "  seed_sentencepieces_file: \n",
      "  hard_vocab_limit: 1\n",
      "  use_all_vocab: 0\n",
      "  unk_id: 0\n",
      "  bos_id: 1\n",
      "  eos_id: 2\n",
      "  pad_id: -1\n",
      "  unk_piece: <unk>\n",
      "  bos_piece: <s>\n",
      "  eos_piece: </s>\n",
      "  pad_piece: <pad>\n",
      "  unk_surface:  ⁇ \n",
      "  enable_differential_privacy: 0\n",
      "  differential_privacy_noise_level: 0\n",
      "  differential_privacy_clipping_threshold: 0\n",
      "}\n",
      "normalizer_spec {\n",
      "  name: nmt_nfkc\n",
      "  add_dummy_prefix: 1\n",
      "  remove_extra_whitespaces: 1\n",
      "  escape_whitespaces: 1\n",
      "  normalization_rule_tsv: \n",
      "}\n",
      "denormalizer_spec {}\n",
      "trainer_interface.cc(353) LOG(INFO) SentenceIterator is not specified. Using MultiFileSentenceIterator.\n",
      "trainer_interface.cc(185) LOG(INFO) Loading corpus: sample.txt\n",
      "trainer_interface.cc(409) LOG(INFO) Loaded all 4 sentences\n",
      "trainer_interface.cc(425) LOG(INFO) Adding meta_piece: <unk>\n",
      "trainer_interface.cc(425) LOG(INFO) Adding meta_piece: <s>\n",
      "trainer_interface.cc(425) LOG(INFO) Adding meta_piece: </s>\n",
      "trainer_interface.cc(430) LOG(INFO) Normalizing sentences...\n",
      "trainer_interface.cc(539) LOG(INFO) all chars count=579\n",
      "trainer_interface.cc(560) LOG(INFO) Alphabet size=42\n",
      "trainer_interface.cc(561) LOG(INFO) Final character coverage=1\n",
      "trainer_interface.cc(592) LOG(INFO) Done! preprocessed 4 sentences.\n",
      "unigram_model_trainer.cc(265) LOG(INFO) Making suffix array...\n",
      "unigram_model_trainer.cc(269) LOG(INFO) Extracting frequent sub strings... node_num=252\n",
      "unigram_model_trainer.cc(312) LOG(INFO) Initialized 148 seed sentencepieces\n",
      "trainer_interface.cc(598) LOG(INFO) Tokenizing input sentences with whitespace: 4\n",
      "trainer_interface.cc(609) LOG(INFO) Done! 77\n",
      "unigram_model_trainer.cc(602) LOG(INFO) Using 77 sentences for EM training\n",
      "unigram_model_trainer.cc(618) LOG(INFO) EM sub_iter=0 size=120 obj=14.0457 num_tokens=261 num_tokens/piece=2.175\n",
      "unigram_model_trainer.cc(618) LOG(INFO) EM sub_iter=1 size=118 obj=13.5971 num_tokens=261 num_tokens/piece=2.21186\n",
      "trainer_interface.cc(687) LOG(INFO) Saving model: m.model\n",
      "trainer_interface.cc(699) LOG(INFO) Saving vocabs: m.vocab\n"
     ]
    }
   ],
   "source": [
    "import sentencepiece as spm\n",
    "\n",
    "# spm.SentencePieceTrainer.train(input=\"sample.txt\", model_prefix=\"m\", vocab_size=125) #for sentencepiece\n",
    "spm.SentencePieceTrainer.train(input=\"sample.txt\", model_prefix=\"m\", vocab_size=125, model_type=\"unigram\") #for unigram\n",
    "\n",
    "model = spm.SentencePieceProcessor(model_file=\"m.model\")\n",
    "\n",
    "text = \"We are learning Tokenization for NLP\"\n",
    "\n",
    "tokens = model.encode_as_pieces(text)\n",
    "\n",
    "print(tokens)"
   ]
  },
  {
   "cell_type": "code",
   "execution_count": 11,
   "metadata": {},
   "outputs": [
    {
     "name": "stdout",
     "output_type": "stream",
     "text": [
      "Requirement already satisfied: pymupdf in /opt/anaconda3/lib/python3.12/site-packages (1.25.2)\n",
      "Note: you may need to restart the kernel to use updated packages.\n"
     ]
    }
   ],
   "source": [
    "pip install pymupdf"
   ]
  },
  {
   "cell_type": "code",
   "execution_count": 1,
   "metadata": {},
   "outputs": [
    {
     "name": "stdout",
     "output_type": "stream",
     "text": [
      "done\n"
     ]
    }
   ],
   "source": [
    "import fitz\n",
    "\n",
    "pdf_path = \"/Users/vrishfish/Intro to NLP/2025-exam-priorities.pdf\"\n",
    "doc = fitz.open(pdf_path)\n",
    "\n",
    "text = \" \"\n",
    "for page in doc:\n",
    "    text += page.get_text(\"text\") + \"\\n\"\n",
    "\n",
    "with open(\"financial_report.txt\", \"w\", encoding = \"utf-8\") as f:\n",
    "    f.write(text)\n",
    "\n",
    "print(\"done\")"
   ]
  },
  {
   "cell_type": "code",
   "execution_count": 3,
   "metadata": {},
   "outputs": [
    {
     "name": "stdout",
     "output_type": "stream",
     "text": [
      "Requirement already satisfied: scipy in /opt/anaconda3/lib/python3.12/site-packages (1.13.1)\n",
      "Collecting scipy\n",
      "  Downloading scipy-1.15.2-cp312-cp312-macosx_14_0_arm64.whl.metadata (61 kB)\n",
      "\u001b[2K     \u001b[90m━━━━━━━━━━━━━━━━━━━━━━━━━━━━━━━━━━━━━━━━\u001b[0m \u001b[32m62.0/62.0 kB\u001b[0m \u001b[31m1.3 MB/s\u001b[0m eta \u001b[36m0:00:00\u001b[0mta \u001b[36m0:00:01\u001b[0m\n",
      "\u001b[?25hRequirement already satisfied: gensim in /opt/anaconda3/lib/python3.12/site-packages (4.3.2)\n",
      "Collecting gensim\n",
      "  Downloading gensim-4.3.3-cp312-cp312-macosx_11_0_arm64.whl.metadata (8.1 kB)\n",
      "Requirement already satisfied: numpy<2.5,>=1.23.5 in /opt/anaconda3/lib/python3.12/site-packages (from scipy) (1.26.4)\n",
      "Requirement already satisfied: smart-open>=1.8.1 in /opt/anaconda3/lib/python3.12/site-packages (from gensim) (5.2.1)\n",
      "Downloading gensim-4.3.3-cp312-cp312-macosx_11_0_arm64.whl (24.0 MB)\n",
      "\u001b[2K   \u001b[90m━━━━━━━━━━━━━━━━━━━━━━━━━━━━━━━━━━━━━━━━\u001b[0m \u001b[32m24.0/24.0 MB\u001b[0m \u001b[31m43.7 MB/s\u001b[0m eta \u001b[36m0:00:00\u001b[0m00:01\u001b[0m00:01\u001b[0m\n",
      "\u001b[?25hInstalling collected packages: gensim\n",
      "  Attempting uninstall: gensim\n",
      "    Found existing installation: gensim 4.3.2\n",
      "    Uninstalling gensim-4.3.2:\n",
      "      Successfully uninstalled gensim-4.3.2\n",
      "Successfully installed gensim-4.3.3\n",
      "Note: you may need to restart the kernel to use updated packages.\n"
     ]
    }
   ],
   "source": [
    "pip install --upgrade scipy gensim\n"
   ]
  },
  {
   "cell_type": "code",
   "execution_count": 29,
   "metadata": {},
   "outputs": [
    {
     "name": "stdout",
     "output_type": "stream",
     "text": [
      "Vector for trading:  [-0.00536227  0.00236431  0.0510335   0.09009273 -0.0930295  -0.07116809\n",
      "  0.06458873  0.08972988 -0.05015428 -0.03763372]\n",
      "Words similar to stocks:  [('risk', 0.2914133667945862), ('revenue', 0.055391471832990646), ('earnings', 0.04264765605330467), ('market', -0.021763406693935394), ('finance', -0.15250320732593536), ('portfolio', -0.19863173365592957), ('investment', -0.21799440681934357), ('growth', -0.23157194256782532), ('profit', -0.5145737528800964), ('trading', -0.7287455797195435)]\n"
     ]
    }
   ],
   "source": [
    "from gensim.models import Word2Vec\n",
    "\n",
    "# Sample corpus\n",
    "sentences = [[\"finance\", \"stocks\", \"market\", \"trading\"],\n",
    "             [\"investment\", \"portfolio\", \"trading\", \"risk\"],\n",
    "             [\"earnings\", \"growth\", \"revenue\", \"profit\"]]\n",
    "\n",
    "model = Word2Vec(sentences, vector_size = 10, window = 5, min_count = 1, workers = 4)\n",
    "\n",
    "print(\"Vector for trading: \", model.wv[\"trading\"])\n",
    "\n",
    "print(\"Words similar to stocks: \", model.wv.most_similar(\"stocks\"))"
   ]
  },
  {
   "cell_type": "code",
   "execution_count": 15,
   "metadata": {},
   "outputs": [
    {
     "name": "stdout",
     "output_type": "stream",
     "text": [
      "Vector for trading:  [ 0.30351034 -0.21318461  0.572025   -0.13071243  0.03438886 -0.05973988\n",
      "  0.57331944  0.43242475 -0.7058302  -0.23329046]\n",
      "Words similar to leadership:  [('Technologies', 0.9009133577346802), ('Practices', 0.8817640542984009), ('shortened', 0.8779333829879761), ('day', 0.8692722320556641), ('initiatives', 0.8577706813812256), ('AS', 0.8577660322189331), ('important', 0.845853865146637), ('fraud', 0.8451926112174988), ('both', 0.8426200151443481), ('adoption', 0.8425443172454834)]\n"
     ]
    }
   ],
   "source": [
    "from gensim.models import Word2Vec\n",
    "import nltk\n",
    "from nltk import word_tokenize, sent_tokenize\n",
    "\n",
    "# Sample corpus\n",
    "# sentences = [[\"finance\", \"stocks\", \"market\", \"trading\"],\n",
    "#              [\"investment\", \"portfolio\", \"trading\", \"risk\"],\n",
    "#              [\"earnings\", \"growth\", \"revenue\", \"profit\"]]\n",
    "\n",
    "def load_financial_text(file_path):\n",
    "    with open(file_path, \"r\", encoding = \"utf-8\") as f:\n",
    "        text = f.read()\n",
    "    sentences = sent_tokenize(text)\n",
    "    tokens = [word_tokenize(sentence) for sentence in sentences]\n",
    "\n",
    "    return tokens\n",
    "\n",
    "sentences = load_financial_text(\"financial_report.txt\")\n",
    "\n",
    "model = Word2Vec(sentences, vector_size = 10, window = 5, min_count = 1, workers = 4)\n",
    "\n",
    "print(\"Vector for trading: \", model.wv[\"trading\"])\n",
    "\n",
    "print(\"Words similar to leadership: \", model.wv.most_similar(\"leadership\"))"
   ]
  },
  {
   "cell_type": "code",
   "execution_count": 5,
   "metadata": {},
   "outputs": [
    {
     "name": "stdout",
     "output_type": "stream",
     "text": [
      "[==================================================] 100.0% 66.0/66.0MB downloaded\n",
      "Vector for finance:  [ 0.26065  -0.2486    0.33918   0.17447   0.16059  -0.17241  -0.49592\n",
      " -1.1057   -1.1515   -0.67266  -0.52137   0.98864  -0.39519   0.38565\n",
      "  0.46111   0.17909   0.53703  -0.071299  1.0576    0.32059   1.5695\n",
      " -0.58055  -0.54938  -0.69697  -0.4368   -1.3162    0.73868  -0.56189\n",
      " -1.5138    0.9422    2.8278    0.18323  -0.023847  0.12808  -0.23547\n",
      "  0.20016  -0.6252    0.67822   1.1125   -0.16363  -0.66115   0.64392\n",
      "  0.31846  -0.40373   0.19716   0.045172 -0.92688   1.5485    1.5444\n",
      "  0.51316 ]\n",
      "Find similar words to stocks:  [('stock', 0.8653818368911743), ('markets', 0.8522834777832031), ('prices', 0.843100368976593), ('market', 0.8400350213050842), ('traders', 0.8257467150688171), ('trading', 0.8112872242927551), ('investors', 0.8083528876304626), ('indexes', 0.7902353405952454), ('dealers', 0.7884277701377869), ('shares', 0.7868536114692688)]\n"
     ]
    }
   ],
   "source": [
    "#GloVe\n",
    "\n",
    "import gensim.downloader as api\n",
    "\n",
    "glove_model = api.load(\"glove-wiki-gigaword-50\")\n",
    "\n",
    "print(\"Vector for finance: \", glove_model[\"finance\"])\n",
    "\n",
    "print(\"Find similar words to stocks: \", glove_model.most_similar(\"stocks\"))"
   ]
  },
  {
   "cell_type": "code",
   "execution_count": 27,
   "metadata": {},
   "outputs": [
    {
     "name": "stdout",
     "output_type": "stream",
     "text": [
      "Shape of input embeddings:  torch.Size([1122, 212, 768])\n"
     ]
    }
   ],
   "source": [
    "from transformers import BertTokenizer, BertModel\n",
    "import torch\n",
    "import nltk\n",
    "from nltk import word_tokenize, sent_tokenize\n",
    "\n",
    "#loading FinBERT pretrained\n",
    "\n",
    "tokenizer = BertTokenizer.from_pretrained(\"yiyanghkust/finbert-pretrain\")\n",
    "model = BertModel.from_pretrained(\"yiyanghkust/finbert-pretrain\")\n",
    "\n",
    "#loading financial dataset, converting to tokens and string\n",
    "def load_financial_text(file_path):\n",
    "    with open(file_path, \"r\", encoding = \"utf-8\") as f:\n",
    "        text = f.read().strip()\n",
    "    sentences = sent_tokenize(text)\n",
    "    tokens = [\"\".join(word_tokenize(sentence)) for sentence in sentences]\n",
    "\n",
    "    return tokens\n",
    "\n",
    "sentences = load_financial_text(\"financial_report.txt\")\n",
    "\n",
    "tokens = tokenizer(sentences, return_tensors =\"pt\", truncation = True, padding = True, max_length=512) \n",
    "with torch.no_grad():\n",
    "    output = model(**tokens)\n",
    "\n",
    "print(\"Shape of input embeddings: \", output.last_hidden_state.shape)"
   ]
  },
  {
   "cell_type": "code",
   "execution_count": 28,
   "metadata": {},
   "outputs": [
    {
     "name": "stdout",
     "output_type": "stream",
     "text": [
      "Embedding shape: torch.Size([1, 8, 768])\n"
     ]
    }
   ],
   "source": [
    "import torch\n",
    "from transformers import AutoTokenizer, AutoModel\n",
    "\n",
    "# Load FinBERT tokenizer & model\n",
    "tokenizer = AutoTokenizer.from_pretrained(\"yiyanghkust/finbert-pretrain\")\n",
    "model = AutoModel.from_pretrained(\"yiyanghkust/finbert-pretrain\")\n",
    "\n",
    "# Encode financial text\n",
    "text = \"The stock market is volatile.\"\n",
    "tokens = tokenizer(text, return_tensors=\"pt\")  # Convert text to PyTorch tensors\n",
    "\n",
    "# Run inference \n",
    "with torch.no_grad():\n",
    "    output = model(**tokens)\n",
    "\n",
    "# Check the shape of embeddings\n",
    "print(\"Embedding shape:\", output.last_hidden_state.shape)\n"
   ]
  },
  {
   "cell_type": "code",
   "execution_count": 32,
   "metadata": {},
   "outputs": [],
   "source": [
    "#RNN from scratch\n",
    "\n",
    "import torch\n",
    "import torch.nn as nn \n",
    "\n",
    "class SimpleRNN(nn.Module): #class inheriting built-in capabilities of nn.module\n",
    "    def __init__(self, input_size, hidden_size, output_size):\n",
    "        super(SimpleRNN, self).__init__()\n",
    "        self.hidden_size = hidden_size\n",
    "        self.rnn = nn.RNN(input_size, hidden_size, batch_first = True)\n",
    "        self.fc = nn.Linear(hidden_size, output_size) #fully connected hidden layer mapping last hidden state to output/ final prediciton layer\n",
    "    def forward(self, x):\n",
    "        out, _ = self.rnn(x)\n",
    "        out = self.fc(out[:,-1,:])\n",
    "        return out\n",
    "\n",
    "#Initializing RNN\n",
    "rnn = SimpleRNN(input_size=10, hidden_size=20, output_size=1)\n",
    "\n",
    "\n",
    " "
   ]
  },
  {
   "cell_type": "code",
   "execution_count": null,
   "metadata": {},
   "outputs": [],
   "source": [
    "financial_data = [\n",
    "    (\"The stock market surged today\", 1),   # Positive sentiment\n",
    "    (\"Company profits hit record high\", 1), # Positive\n",
    "    (\"Investors are worried about inflation\", 0), # Negative sentiment\n",
    "    (\"Tech stocks suffer a major crash\", 0), # Negative\n",
    "]\n"
   ]
  },
  {
   "cell_type": "code",
   "execution_count": 46,
   "metadata": {},
   "outputs": [
    {
     "name": "stdout",
     "output_type": "stream",
     "text": [
      "Table 0:\n",
      " U.S. Securities and Exchange Commission\n",
      "Table 1:\n",
      " \n",
      "\n",
      "Your Request Originates from an Undeclared Automated Tool\n",
      "\n",
      "\n",
      "To allow for equitable access to all users, SEC reserves the right to limit requests originating from undeclared automated tools. Your request has been identified as part of a network of automated tools outside of the acceptable policy and will be managed until action is taken to declare your traffic.\n",
      "\n",
      "\n",
      "Please declare your traffic by updating your user agent to include company specific information.\n",
      "\n",
      "\n",
      "For best practices on efficiently downloading information from SEC.gov, including the latest EDGAR filings, visit \n",
      "sec.gov/developer\n",
      ". You can also \n",
      "sign up for email updates\n",
      " on the SEC open data program, including best practices that make it more efficient to download data, and SEC.gov enhancements that may impact scripted downloading processes. For more information, contact \n",
      "opendata@sec.gov\n",
      ".\n",
      "\n",
      "\n",
      "For more information, please see the SECâs \n",
      "Web Site Privacy and Security Policy\n",
      ". Thank you for your interest in the U.S. Securities and Exchange Commission.\n",
      "\n",
      "Reference ID: 0.6855c817.1740428722.8eb73ae\n",
      "\n",
      "\n",
      "\n",
      "\n",
      "More Information\n",
      "\n",
      "\n",
      "Internet Security Policy\n",
      "\n",
      "\n",
      "By using this site, you are agreeing to security monitoring and auditing. For security purposes, and to ensure that the public service remains available to users, this government computer system employs programs to monitor network traffic to identify unauthorized attempts to upload or change information or to otherwise cause damage, including attempts to deny service to users.\n",
      "\n",
      "\n",
      "Unauthorized attempts to upload information and/or change information on any portion of this site are strictly prohibited and are subject to prosecution under the Computer Fraud and Abuse Act of 1986 and the National Information Infrastructure Protection Act of 1996 (see Title 18 U.S.C. Â§Â§ 1001 and 1030).\n",
      "\n",
      "\n",
      "To ensure our website performs well for all users, the SEC monitors the frequency of requests for SEC.gov content to ensure automated searches do not impact the ability of others to access SEC.gov content. We reserve the right to block IP addresses that submit excessive requests.  Current guidelines limit users to a total of no more than 10 requests per second, regardless of the number of machines used to submit requests. \n",
      "\n",
      "\n",
      "If a user or application submits more than 10 requests per second, further requests from the IP address(es) may be limited for a brief period. Once the rate of requests has dropped below the threshold for 10 minutes, the user may resume accessing content on SEC.gov. This SEC practice is designed to limit excessive automated searches on SEC.gov and is not intended or expected to impact individuals browsing the SEC.gov website. \n",
      "\n",
      "\n",
      "Note that this policy may change as the SEC manages SEC.gov to ensure that the website performs efficiently and remains available to all users.\n",
      "\n",
      "\n",
      "\n",
      "\n",
      "\n",
      "\n",
      "Note:\n",
      " We do not offer technical support for developing or debugging scripted downloading processes.\n",
      "\n",
      "\n",
      "Table 2:\n",
      " \n",
      "\n",
      "More Information\n",
      "\n",
      "\n",
      "Internet Security Policy\n",
      "\n",
      "\n",
      "By using this site, you are agreeing to security monitoring and auditing. For security purposes, and to ensure that the public service remains available to users, this government computer system employs programs to monitor network traffic to identify unauthorized attempts to upload or change information or to otherwise cause damage, including attempts to deny service to users.\n",
      "\n",
      "\n",
      "Unauthorized attempts to upload information and/or change information on any portion of this site are strictly prohibited and are subject to prosecution under the Computer Fraud and Abuse Act of 1986 and the National Information Infrastructure Protection Act of 1996 (see Title 18 U.S.C. Â§Â§ 1001 and 1030).\n",
      "\n",
      "\n",
      "To ensure our website performs well for all users, the SEC monitors the frequency of requests for SEC.gov content to ensure automated searches do not impact the ability of others to access SEC.gov content. We reserve the right to block IP addresses that submit excessive requests.  Current guidelines limit users to a total of no more than 10 requests per second, regardless of the number of machines used to submit requests. \n",
      "\n",
      "\n",
      "If a user or application submits more than 10 requests per second, further requests from the IP address(es) may be limited for a brief period. Once the rate of requests has dropped below the threshold for 10 minutes, the user may resume accessing content on SEC.gov. This SEC practice is designed to limit excessive automated searches on SEC.gov and is not intended or expected to impact individuals browsing the SEC.gov website. \n",
      "\n",
      "\n",
      "Note that this policy may change as the SEC manages SEC.gov to ensure that the website performs efficiently and remains available to all users.\n",
      "\n",
      "\n",
      "no match\n"
     ]
    }
   ],
   "source": [
    "#data extraction using BeautifulSoup\n",
    "\n",
    "import requests\n",
    "from bs4 import BeautifulSoup\n",
    "\n",
    "url = \"https://www.sec.gov/Archives/edgar/data/824036/000175272425035359/xslFormNPORT-P_X01/primary_doc.xml\"\n",
    "response = requests.get(url)\n",
    "soup = BeautifulSoup(response.text, \"html.parser\")\n",
    "\n",
    "text = soup.get_text()\n",
    "tables = soup.find_all(\"div\")  # Extract all tables\n",
    "\n",
    "for i, table in enumerate(tables[:5]):  # Print first 5 tables\n",
    "    print(f\"Table {i}:\\n\", table.get_text(separator=\"\\n\"))\n",
    "\n",
    "#Extracting using regex\n",
    "import re\n",
    "match = re.search(r\"(Total Revenue|Net Sales|Total Net Sales|Files).*?\\$([\\d,]+)\", text, re.IGNORECASE\n",
    ")\n",
    "if match:\n",
    "    revenue=match.group(1)\n",
    "    print(revenue)\n",
    "else:\n",
    "    print(\"no match\")"
   ]
  },
  {
   "cell_type": "code",
   "execution_count": 51,
   "metadata": {},
   "outputs": [
    {
     "name": "stdout",
     "output_type": "stream",
     "text": [
      "<Response [401]>\n",
      "[] \n",
      "\n"
     ]
    }
   ],
   "source": [
    "import requests\n",
    "from bs4 import BeautifulSoup\n",
    "\n",
    "url = \"https://www.reuters.com/markets/\"\n",
    "response = requests.get(url)\n",
    "print(response)\n",
    "soup = BeautifulSoup(response.text, \"html.parser\")\n",
    "\n",
    "headline = [h.text for h in soup.find_all(\"h3\")]\n",
    "print(headline, \"\\n\")"
   ]
  },
  {
   "cell_type": "code",
   "execution_count": 52,
   "metadata": {},
   "outputs": [
    {
     "data": {
      "image/png": "[encoded data removed]",
      "text/plain": [
       "<Figure size 640x480 with 1 Axes>"
      ]
     },
     "metadata": {},
     "output_type": "display_data"
    }
   ],
   "source": [
    "import numpy as np\n",
    "import matplotlib.pyplot as plt\n",
    "\n",
    "x = np.linspace(-10, 10, 100)\n",
    "relu = np.maximum(0, x)\n",
    "sigmoid = 1 / (1 + np.exp(-x))\n",
    "\n",
    "plt.plot(x, relu, label=\"ReLU\")\n",
    "plt.plot(x, sigmoid, label=\"Sigmoid\")\n",
    "plt.legend()\n",
    "plt.show()\n"
   ]
  }
 ],
 "metadata": {
  "kernelspec": {
   "display_name": "base",
   "language": "python",
   "name": "python3"
  },
  "language_info": {
   "codemirror_mode": {
    "name": "ipython",
    "version": 3
   },
   "file_extension": ".py",
   "mimetype": "text/x-python",
   "name": "python",
   "nbconvert_exporter": "python",
   "pygments_lexer": "ipython3",
   "version": "3.12.2"
  }
 },
 "nbformat": 4,
 "nbformat_minor": 2
}
